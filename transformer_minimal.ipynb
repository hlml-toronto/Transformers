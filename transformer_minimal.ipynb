{
 "cells": [
  {
   "cell_type": "markdown",
   "metadata": {},
   "source": [
    "# Prelims"
   ]
  },
  {
   "cell_type": "code",
   "execution_count": 2,
   "metadata": {},
   "outputs": [
    {
     "name": "stdout",
     "output_type": "stream",
     "text": [
      "kernel running\n"
     ]
    }
   ],
   "source": [
    "print('kernel running')"
   ]
  },
  {
   "cell_type": "code",
   "execution_count": 5,
   "metadata": {},
   "outputs": [],
   "source": [
    "import numpy as np\n",
    "import torch\n",
    "import torch.nn as nn\n",
    "import torch.nn.functional as F\n",
    "import math, copy, time\n",
    "from torch.autograd import Variable\n",
    "import matplotlib.pyplot as plt\n",
    "import seaborn\n",
    "seaborn.set_context(context=\"talk\")\n",
    "%matplotlib inline\n",
    "\n",
    "from classes import make_model, subsequent_mask, NoamOpt, LabelSmoothing, PositionalEncoding, run_epoch, Batch, \\\n",
    "    greedy_decode\n",
    "from transformer_mini import data_gen_list, SimpleLossCompute"
   ]
  },
  {
   "cell_type": "markdown",
   "metadata": {},
   "source": [
    "## Greedy Decoding block"
   ]
  },
  {
   "cell_type": "code",
   "execution_count": 6,
   "metadata": {},
   "outputs": [
    {
     "name": "stdout",
     "output_type": "stream",
     "text": [
      "data_batches properties\n",
      "<class 'list'> lengths 5 <class 'classes.Batch'> \n",
      "\n"
     ]
    },
    {
     "name": "stderr",
     "output_type": "stream",
     "text": [
      "c:\\users\\matts\\appdata\\local\\programs\\python\\python37\\lib\\site-packages\\torch\\autograd\\__init__.py:132: UserWarning: CUDA initialization: Found no NVIDIA driver on your system. Please check that you have an NVIDIA GPU and installed a driver from http://www.nvidia.com/Download/index.aspx (Triggered internally at  ..\\c10\\cuda\\CUDAFunctions.cpp:100.)\n",
      "  allow_unreachable=True)  # allow_unreachable flag\n"
     ]
    },
    {
     "name": "stdout",
     "output_type": "stream",
     "text": [
      "Epoch Step: 1 Loss: 3.267837 Tokens per Sec: 380.717430\n",
      "Epoch loss: tensor(3.0926)\n",
      "Epoch Step: 1 Loss: 2.793461 Tokens per Sec: 447.723012\n",
      "Epoch loss: tensor(2.7064)\n",
      "Epoch Step: 1 Loss: 2.341999 Tokens per Sec: 441.496648\n",
      "Epoch loss: tensor(2.2314)\n",
      "Epoch Step: 1 Loss: 2.111100 Tokens per Sec: 445.122369\n",
      "Epoch loss: tensor(2.0417)\n",
      "Epoch Step: 1 Loss: 1.918459 Tokens per Sec: 444.771241\n",
      "Epoch loss: tensor(1.8712)\n",
      "Epoch Step: 1 Loss: 1.786136 Tokens per Sec: 413.229132\n",
      "Epoch loss: tensor(1.7837)\n",
      "Epoch Step: 1 Loss: 1.775763 Tokens per Sec: 414.368202\n",
      "Epoch loss: tensor(1.6844)\n",
      "Epoch Step: 1 Loss: 1.644130 Tokens per Sec: 449.590246\n",
      "Epoch loss: tensor(1.5887)\n",
      "Epoch Step: 1 Loss: 1.500911 Tokens per Sec: 440.516283\n",
      "Epoch loss: tensor(1.4818)\n",
      "Epoch Step: 1 Loss: 1.483034 Tokens per Sec: 441.854775\n",
      "Epoch loss: tensor(1.4087)\n",
      "Epoch Step: 1 Loss: 1.288046 Tokens per Sec: 435.790710\n",
      "Epoch loss: tensor(1.2567)\n",
      "Epoch Step: 1 Loss: 1.243362 Tokens per Sec: 445.737058\n",
      "Epoch loss: tensor(1.2924)\n",
      "Epoch Step: 1 Loss: 1.029418 Tokens per Sec: 442.894110\n",
      "Epoch loss: tensor(1.1693)\n",
      "Epoch Step: 1 Loss: 1.228879 Tokens per Sec: 442.581252\n",
      "Epoch loss: tensor(1.0642)\n",
      "Epoch Step: 1 Loss: 0.932408 Tokens per Sec: 465.469946\n",
      "Epoch loss: tensor(0.9605)\n"
     ]
    }
   ],
   "source": [
    "# Train the simple copy task.\n",
    "epochs = 15\n",
    "V = 11  # input symbols are integers from 1 to 11 inclusive\n",
    "criterion = LabelSmoothing(size=V, padding_idx=0, smoothing=0.0)\n",
    "model = make_model(V, V, N=2)  # model is EncoderDecoder object\n",
    "model_opt = NoamOpt(model.src_embed[0].d_model, 1, 400,\n",
    "                    torch.optim.Adam(model.parameters(), lr=0, betas=(0.9, 0.98), eps=1e-9))\n",
    "\n",
    "# Generate random data\n",
    "data_batches = data_gen_list(V, 30, 5)  # old call: data_gen(V, 30, 20) (makes generator instead of list)\n",
    "print('data_batches properties')\n",
    "print(type(data_batches), 'lengths', len(data_batches), type(data_batches[0]), '\\n')\n",
    "\n",
    "# Train the model\n",
    "loss_curve = [0] * epochs\n",
    "for epoch in range(epochs):  # def 10\n",
    "    ## calls nn.Module.train() which sets mode to train\n",
    "    model.train()\n",
    "    epoch_loss = run_epoch(data_batches, model,\n",
    "                           SimpleLossCompute(model.generator, criterion, model_opt))\n",
    "    \n",
    "    loss_curve[epoch] = epoch_loss\n",
    "    print('Epoch %d loss:' % epoch, epoch_loss)\n",
    "    ## sets mode to testing (i.e. train=False).\n",
    "    ## Layers like dropout behave differently depending on if mode is train or testing.\n",
    "    model.eval()"
   ]
  },
  {
   "cell_type": "code",
   "execution_count": 18,
   "metadata": {},
   "outputs": [
    {
     "data": {
      "text/plain": [
       "Text(0, 0.5, 'Loss')"
      ]
     },
     "execution_count": 18,
     "metadata": {},
     "output_type": "execute_result"
    },
    {
     "data": {
      "image/png": "[encoded data removed]",
      "text/plain": [
       "<Figure size 432x288 with 1 Axes>"
      ]
     },
     "metadata": {
      "needs_background": "light"
     },
     "output_type": "display_data"
    }
   ],
   "source": [
    "plt.plot(range(epochs), loss_curve)\n",
    "plt.xlabel('Epoch')\n",
    "plt.ylabel('Loss')"
   ]
  },
  {
   "cell_type": "code",
   "execution_count": 19,
   "metadata": {},
   "outputs": [
    {
     "name": "stdout",
     "output_type": "stream",
     "text": [
      "tensor([[ 1,  3,  2,  4,  5,  6,  7, 10,  9,  8]])\n"
     ]
    }
   ],
   "source": [
    "src = Variable(torch.LongTensor([[1, 2, 3, 4, 5, 6, 7, 8, 9, 10]]))\n",
    "src_mask = Variable(torch.ones(1, 1, 10))\n",
    "print(greedy_decode(model, src, src_mask, max_len=10, start_symbol=1))"
   ]
  },
  {
   "cell_type": "code",
   "execution_count": 20,
   "metadata": {},
   "outputs": [
    {
     "name": "stdout",
     "output_type": "stream",
     "text": [
      "tensor([[1, 3, 3, 3, 2, 1, 9, 1, 9, 1]])\n"
     ]
    }
   ],
   "source": [
    "src = Variable(torch.LongTensor([[1, 1, 3, 2, 9, 1, 7, 1, 9, 1]]))\n",
    "src_mask = Variable(torch.ones(1, 1, 10))\n",
    "print(greedy_decode(model, src, src_mask, max_len=10, start_symbol=1))"
   ]
  },
  {
   "cell_type": "code",
   "execution_count": 31,
   "metadata": {},
   "outputs": [],
   "source": [
    "def greedy_decode_local(model, src, src_mask, max_len, start_symbol):\n",
    "    memory = model.encode(src, src_mask)\n",
    "    print('memory:', type(memory), memory.dim(), memory.shape)\n",
    "    \n",
    "    ys = torch.ones(1, 1).fill_(start_symbol).type_as(src.data)\n",
    "    print(ys)\n",
    "    print(type(ys), ys.dim(), ys.shape)\n",
    "    \n",
    "    for i in range(max_len - 1):\n",
    "        out = model.decode(memory, src_mask,\n",
    "                           Variable(ys),\n",
    "                           Variable(subsequent_mask(ys.size(1))\n",
    "                                    .type_as(src.data)))\n",
    "        prob = model.generator(out[:, -1])\n",
    "        _, next_word = torch.max(prob, dim=1)\n",
    "        next_word = next_word.data[0]\n",
    "        \n",
    "        ys = torch.cat([ys,\n",
    "                        torch.ones(1, 1).type_as(src.data).fill_(next_word)], dim=1)\n",
    "        print(ys)\n",
    "        print(type(ys), ys.dim(), ys.shape)\n",
    "        \n",
    "    return ys"
   ]
  },
  {
   "cell_type": "code",
   "execution_count": 32,
   "metadata": {},
   "outputs": [
    {
     "name": "stdout",
     "output_type": "stream",
     "text": [
      "memory: <class 'torch.Tensor'> 3 torch.Size([1, 10, 512])\n",
      "tensor([[1]])\n",
      "<class 'torch.Tensor'> 2 torch.Size([1, 1])\n",
      "tensor([[1, 3]])\n",
      "<class 'torch.Tensor'> 2 torch.Size([1, 2])\n",
      "tensor([[1, 3, 3]])\n",
      "<class 'torch.Tensor'> 2 torch.Size([1, 3])\n",
      "tensor([[1, 3, 3, 3]])\n",
      "<class 'torch.Tensor'> 2 torch.Size([1, 4])\n",
      "tensor([[1, 3, 3, 3, 2]])\n",
      "<class 'torch.Tensor'> 2 torch.Size([1, 5])\n",
      "tensor([[1, 3, 3, 3, 2, 1]])\n",
      "<class 'torch.Tensor'> 2 torch.Size([1, 6])\n",
      "tensor([[1, 3, 3, 3, 2, 1, 9]])\n",
      "<class 'torch.Tensor'> 2 torch.Size([1, 7])\n",
      "tensor([[1, 3, 3, 3, 2, 1, 9, 1]])\n",
      "<class 'torch.Tensor'> 2 torch.Size([1, 8])\n",
      "tensor([[1, 3, 3, 3, 2, 1, 9, 1, 9]])\n",
      "<class 'torch.Tensor'> 2 torch.Size([1, 9])\n",
      "tensor([[1, 3, 3, 3, 2, 1, 9, 1, 9, 1]])\n",
      "<class 'torch.Tensor'> 2 torch.Size([1, 10])\n",
      "tensor([[1, 3, 3, 3, 2, 1, 9, 1, 9, 1]])\n"
     ]
    }
   ],
   "source": [
    "src = Variable(torch.LongTensor([[1, 1, 3, 2, 9, 1, 7, 1, 9, 1]]))\n",
    "src_mask = Variable(torch.ones(1, 1, 10))\n",
    "print(greedy_decode_local(model, src, src_mask, max_len=10, start_symbol=1))"
   ]
  },
  {
   "cell_type": "code",
   "execution_count": null,
   "metadata": {},
   "outputs": [],
   "source": []
  }
 ],
 "metadata": {
  "kernelspec": {
   "display_name": "Python 3",
   "language": "python",
   "name": "python3"
  },
  "language_info": {
   "codemirror_mode": {
    "name": "ipython",
    "version": 3
   },
   "file_extension": ".py",
   "mimetype": "text/x-python",
   "name": "python",
   "nbconvert_exporter": "python",
   "pygments_lexer": "ipython3",
   "version": "3.7.3"
  }
 },
 "nbformat": 4,
 "nbformat_minor": 2
}
