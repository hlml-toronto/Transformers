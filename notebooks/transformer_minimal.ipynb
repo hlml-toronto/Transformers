{
 "cells": [
  {
   "cell_type": "markdown",
   "metadata": {},
   "source": [
    "# Prelims"
   ]
  },
  {
   "cell_type": "code",
   "execution_count": 1,
   "metadata": {},
   "outputs": [
    {
     "name": "stdout",
     "output_type": "stream",
     "text": [
      "kernel running\n"
     ]
    }
   ],
   "source": [
    "print('kernel running')"
   ]
  },
  {
   "cell_type": "code",
   "execution_count": 4,
   "metadata": {},
   "outputs": [],
   "source": [
    "import numpy as np\n",
    "import torch\n",
    "import torch.nn as nn\n",
    "import torch.nn.functional as F\n",
    "import math, copy, time\n",
    "from torch.autograd import Variable\n",
    "import matplotlib.pyplot as plt\n",
    "import seaborn\n",
    "seaborn.set_context(context=\"talk\")\n",
    "%matplotlib inline\n",
    "\n",
    "from classes import make_model, subsequent_mask, NoamOpt, LabelSmoothing, PositionalEncoding, run_epoch, Batch, \\\n",
    "    greedy_decode, data_gen\n",
    "from transformer_mini import data_gen_list, SimpleLossCompute"
   ]
  },
  {
   "cell_type": "markdown",
   "metadata": {},
   "source": [
    "## Greedy Decoding block"
   ]
  },
  {
   "cell_type": "code",
   "execution_count": 5,
   "metadata": {},
   "outputs": [
    {
     "name": "stdout",
     "output_type": "stream",
     "text": [
      "data_batches properties\n",
      "<class 'list'> lengths 5 <class 'classes.Batch'> \n",
      "\n"
     ]
    },
    {
     "name": "stderr",
     "output_type": "stream",
     "text": [
      "/home/tiantian/tz545/Documents/HLML/transformer_review/GH_transformers/classes.py:413: UserWarning: This overload of nonzero is deprecated:\n",
      "\tnonzero(Tensor input, *, Tensor out)\n",
      "Consider using one of the following signatures instead:\n",
      "\tnonzero(Tensor input, *, bool as_tuple) (Triggered internally at  /opt/conda/conda-bld/pytorch_1595629401553/work/torch/csrc/utils/python_arg_parser.cpp:766.)\n",
      "  mask = torch.nonzero(target.data == self.padding_idx)\n"
     ]
    },
    {
     "name": "stdout",
     "output_type": "stream",
     "text": [
      "Epoch Step: 1 Loss: 3.183130 Tokens per Sec: 519.738603\n",
      "Epoch 0 loss: tensor(2.6170)\n",
      "Epoch Step: 1 Loss: 1.960420 Tokens per Sec: 1202.697829\n",
      "tensor(1.9466)\n",
      "Epoch Step: 1 Loss: 2.010385 Tokens per Sec: 887.775243\n",
      "Epoch 1 loss: tensor(1.9255)\n",
      "Epoch Step: 1 Loss: 1.670341 Tokens per Sec: 1574.568689\n",
      "tensor(1.6597)\n",
      "Epoch Step: 1 Loss: 1.866462 Tokens per Sec: 975.012650\n",
      "Epoch 2 loss: tensor(1.7544)\n",
      "Epoch Step: 1 Loss: 1.368206 Tokens per Sec: 1734.291623\n",
      "tensor(1.4174)\n",
      "Epoch Step: 1 Loss: 1.763410 Tokens per Sec: 1048.664360\n",
      "Epoch 3 loss: tensor(1.7058)\n",
      "Epoch Step: 1 Loss: 1.269165 Tokens per Sec: 1726.199680\n",
      "tensor(1.2902)\n",
      "Epoch Step: 1 Loss: 1.443484 Tokens per Sec: 866.159252\n",
      "Epoch 4 loss: tensor(1.5114)\n",
      "Epoch Step: 1 Loss: 1.024770 Tokens per Sec: 1507.186265\n",
      "tensor(1.0218)\n",
      "Epoch Step: 1 Loss: 1.322894 Tokens per Sec: 1230.837372\n",
      "Epoch 5 loss: tensor(1.1827)\n",
      "Epoch Step: 1 Loss: 0.653760 Tokens per Sec: 1740.752307\n",
      "tensor(0.6564)\n",
      "Epoch Step: 1 Loss: 0.844765 Tokens per Sec: 1134.499073\n",
      "Epoch 6 loss: tensor(0.8704)\n",
      "Epoch Step: 1 Loss: 0.464377 Tokens per Sec: 1648.018208\n",
      "tensor(0.4537)\n",
      "Epoch Step: 1 Loss: 0.896214 Tokens per Sec: 1213.086866\n",
      "Epoch 7 loss: tensor(0.9965)\n",
      "Epoch Step: 1 Loss: 0.562211 Tokens per Sec: 1649.404381\n",
      "tensor(0.5386)\n",
      "Epoch Step: 1 Loss: 0.782379 Tokens per Sec: 1203.215354\n",
      "Epoch 8 loss: tensor(0.8422)\n",
      "Epoch Step: 1 Loss: 0.409469 Tokens per Sec: 1424.391915\n",
      "tensor(0.4393)\n",
      "Epoch Step: 1 Loss: 0.384274 Tokens per Sec: 1224.314434\n",
      "Epoch 9 loss: tensor(0.6804)\n",
      "Epoch Step: 1 Loss: 0.365054 Tokens per Sec: 1649.042911\n",
      "tensor(0.3434)\n",
      "Epoch Step: 1 Loss: 0.459130 Tokens per Sec: 1047.815848\n",
      "Epoch 10 loss: tensor(0.5538)\n",
      "Epoch Step: 1 Loss: 0.251113 Tokens per Sec: 1560.979956\n",
      "tensor(0.2495)\n",
      "Epoch Step: 1 Loss: 0.714420 Tokens per Sec: 1187.886488\n",
      "Epoch 11 loss: tensor(0.5885)\n",
      "Epoch Step: 1 Loss: 0.166208 Tokens per Sec: 1737.472641\n",
      "tensor(0.2062)\n",
      "Epoch Step: 1 Loss: 0.565824 Tokens per Sec: 1197.661579\n",
      "Epoch 12 loss: tensor(0.4552)\n",
      "Epoch Step: 1 Loss: 0.287960 Tokens per Sec: 1689.185539\n",
      "tensor(0.2593)\n",
      "Epoch Step: 1 Loss: 0.579856 Tokens per Sec: 1149.604990\n",
      "Epoch 13 loss: tensor(0.7831)\n",
      "Epoch Step: 1 Loss: 0.175085 Tokens per Sec: 1502.531941\n",
      "tensor(0.2339)\n",
      "Epoch Step: 1 Loss: 0.322193 Tokens per Sec: 1212.679624\n",
      "Epoch 14 loss: tensor(0.5124)\n",
      "Epoch Step: 1 Loss: 0.299990 Tokens per Sec: 1638.058738\n",
      "tensor(0.3395)\n"
     ]
    }
   ],
   "source": [
    "# Train the simple copy task.\n",
    "epochs = 15\n",
    "V = 11  # input symbols are integers from 1 to 11 inclusive\n",
    "criterion = LabelSmoothing(size=V, padding_idx=0, smoothing=0.0)\n",
    "model = make_model(V, V, N=2)  # model is EncoderDecoder object\n",
    "model_opt = NoamOpt(model.src_embed[0].d_model, 1, 400,\n",
    "                    torch.optim.Adam(model.parameters(), lr=0, betas=(0.9, 0.98), eps=1e-9))\n",
    "\n",
    "# Generate random data\n",
    "data_batches = data_gen_list(V, 30, 5)  # old call: data_gen(V, 30, 20) (makes generator instead of list)\n",
    "print('data_batches properties')\n",
    "print(type(data_batches), 'lengths', len(data_batches), type(data_batches[0]), '\\n')\n",
    "\n",
    "# Train the model\n",
    "loss_curve = [0] * epochs\n",
    "for epoch in range(epochs):  # def 15\n",
    "    ## calls nn.Module.train() which sets mode to train\n",
    "    model.train()\n",
    "    #epoch_loss = run_epoch(data_batches, model,\n",
    "                           #SimpleLossCompute(model.generator, criterion, model_opt))\n",
    "    \n",
    "    epoch_loss = run_epoch(data_gen(V, 30, 20), model, # generates 20 batches of [30, 10] random integers (first column is 1)\n",
    "              SimpleLossCompute(model.generator, criterion, model_opt))\n",
    "    \n",
    "    \n",
    "    loss_curve[epoch] = epoch_loss\n",
    "    print('Epoch %d loss:' % epoch, epoch_loss)\n",
    "    ## sets mode to testing (i.e. train=False).\n",
    "    ## Layers like dropout behave differently depending on if mode is train or testing.\n",
    "    model.eval()\n",
    "    print(run_epoch(data_gen(V, 30, 5), model, \n",
    "                    SimpleLossCompute(model.generator, criterion, None)))\n"
   ]
  },
  {
   "cell_type": "code",
   "execution_count": 6,
   "metadata": {},
   "outputs": [
    {
     "data": {
      "text/plain": [
       "Text(0, 0.5, 'Loss')"
      ]
     },
     "execution_count": 6,
     "metadata": {},
     "output_type": "execute_result"
    },
    {
     "data": {
      "image/png": "[encoded data removed]",
      "text/plain": [
       "<Figure size 432x288 with 1 Axes>"
      ]
     },
     "metadata": {
      "needs_background": "light"
     },
     "output_type": "display_data"
    }
   ],
   "source": [
    "plt.plot(range(epochs), loss_curve)\n",
    "plt.xlabel('Epoch')\n",
    "plt.ylabel('Loss')"
   ]
  },
  {
   "cell_type": "code",
   "execution_count": 7,
   "metadata": {},
   "outputs": [
    {
     "name": "stdout",
     "output_type": "stream",
     "text": [
      "tensor([[ 1,  2,  3,  4,  5,  6,  7,  8,  9, 10]])\n"
     ]
    }
   ],
   "source": [
    "src = Variable(torch.LongTensor([[1, 2, 3, 4, 5, 6, 7, 8, 9, 10]]))\n",
    "src_mask = Variable(torch.ones(1, 1, 10))\n",
    "print(greedy_decode(model, src, src_mask, max_len=10, start_symbol=1))"
   ]
  },
  {
   "cell_type": "code",
   "execution_count": 8,
   "metadata": {},
   "outputs": [
    {
     "name": "stdout",
     "output_type": "stream",
     "text": [
      "tensor([[1, 1, 3, 2, 9, 1, 7, 1, 9, 1]])\n"
     ]
    }
   ],
   "source": [
    "src = Variable(torch.LongTensor([[1, 1, 3, 2, 9, 1, 7, 1, 9, 1]]))\n",
    "src_mask = Variable(torch.ones(1, 1, 10))\n",
    "print(greedy_decode(model, src, src_mask, max_len=10, start_symbol=1))"
   ]
  },
  {
   "cell_type": "code",
   "execution_count": 9,
   "metadata": {},
   "outputs": [],
   "source": [
    "def greedy_decode_local(model, src, src_mask, max_len, start_symbol):\n",
    "    memory = model.encode(src, src_mask)\n",
    "    print('memory:', type(memory), memory.dim(), memory.shape)\n",
    "    \n",
    "    ys = torch.ones(1, 1).fill_(start_symbol).type_as(src.data)\n",
    "    print(ys)\n",
    "    print(type(ys), ys.dim(), ys.shape)\n",
    "    \n",
    "    for i in range(max_len - 1):\n",
    "        out = model.decode(memory, src_mask,\n",
    "                           Variable(ys),\n",
    "                           Variable(subsequent_mask(ys.size(1))\n",
    "                                    .type_as(src.data)))\n",
    "        prob = model.generator(out[:, -1])\n",
    "        _, next_word = torch.max(prob, dim=1)\n",
    "        next_word = next_word.data[0]\n",
    "        \n",
    "        ys = torch.cat([ys,\n",
    "                        torch.ones(1, 1).type_as(src.data).fill_(next_word)], dim=1)\n",
    "        print(ys)\n",
    "        print(type(ys), ys.dim(), ys.shape)\n",
    "        \n",
    "    return ys"
   ]
  },
  {
   "cell_type": "code",
   "execution_count": 10,
   "metadata": {},
   "outputs": [
    {
     "name": "stdout",
     "output_type": "stream",
     "text": [
      "memory: <class 'torch.Tensor'> 3 torch.Size([1, 10, 512])\n",
      "tensor([[1]])\n",
      "<class 'torch.Tensor'> 2 torch.Size([1, 1])\n",
      "tensor([[1, 1]])\n",
      "<class 'torch.Tensor'> 2 torch.Size([1, 2])\n",
      "tensor([[1, 1, 3]])\n",
      "<class 'torch.Tensor'> 2 torch.Size([1, 3])\n",
      "tensor([[1, 1, 3, 2]])\n",
      "<class 'torch.Tensor'> 2 torch.Size([1, 4])\n",
      "tensor([[1, 1, 3, 2, 9]])\n",
      "<class 'torch.Tensor'> 2 torch.Size([1, 5])\n",
      "tensor([[1, 1, 3, 2, 9, 1]])\n",
      "<class 'torch.Tensor'> 2 torch.Size([1, 6])\n",
      "tensor([[1, 1, 3, 2, 9, 1, 7]])\n",
      "<class 'torch.Tensor'> 2 torch.Size([1, 7])\n",
      "tensor([[1, 1, 3, 2, 9, 1, 7, 1]])\n",
      "<class 'torch.Tensor'> 2 torch.Size([1, 8])\n",
      "tensor([[1, 1, 3, 2, 9, 1, 7, 1, 9]])\n",
      "<class 'torch.Tensor'> 2 torch.Size([1, 9])\n",
      "tensor([[1, 1, 3, 2, 9, 1, 7, 1, 9, 1]])\n",
      "<class 'torch.Tensor'> 2 torch.Size([1, 10])\n",
      "tensor([[1, 1, 3, 2, 9, 1, 7, 1, 9, 1]])\n"
     ]
    }
   ],
   "source": [
    "src = Variable(torch.LongTensor([[1, 1, 3, 2, 9, 1, 7, 1, 9, 1]]))\n",
    "src_mask = Variable(torch.ones(1, 1, 10))\n",
    "print(greedy_decode_local(model, src, src_mask, max_len=10, start_symbol=1))"
   ]
  },
  {
   "cell_type": "code",
   "execution_count": null,
   "metadata": {},
   "outputs": [],
   "source": []
  }
 ],
 "metadata": {
  "kernelspec": {
   "display_name": "Python 3",
   "language": "python",
   "name": "python3"
  },
  "language_info": {
   "codemirror_mode": {
    "name": "ipython",
    "version": 3
   },
   "file_extension": ".py",
   "mimetype": "text/x-python",
   "name": "python",
   "nbconvert_exporter": "python",
   "pygments_lexer": "ipython3",
   "version": "3.7.6"
  }
 },
 "nbformat": 4,
 "nbformat_minor": 2
}
